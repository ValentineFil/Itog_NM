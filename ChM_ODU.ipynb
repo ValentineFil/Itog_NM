{
 "cells": [
  {
   "cell_type": "markdown",
   "metadata": {},
   "source": [
    "# Метод Эйлера-Коши"
   ]
  },
  {
   "cell_type": "code",
   "execution_count": 16,
   "metadata": {},
   "outputs": [],
   "source": [
    "def Eiler_Koshi(functions, start, limits):\n",
    "    \n",
    "    '''\n",
    "    Входные данные:\n",
    "    Функции - [func1, func2 ...],\n",
    "    Нач усл - [y1, y2 ...],\n",
    "    Границы - [left, right, step]   \n",
    "    '''\n",
    "    \n",
    "    from numpy import arange, e, sin, cos\n",
    "    import matplotlib.pyplot as plt\n",
    "    from pandas import DataFrame\n",
    "    \n",
    "    dict_of_func = {}\n",
    "    for func in functions:\n",
    "        dict_of_func[func[:(func.find(\"'\"))]] = func[(func.find('=')+1):].replace(' ','')\n",
    "\n",
    "    x_plot = arange(limits[0],limits[1],limits[2])\n",
    "    \n",
    "\n",
    "    k = 0\n",
    "    formats_i = ''\n",
    "    formats_i1 = ''\n",
    "    for key, val in dict_of_func.items():\n",
    "        exec(f'{key}_i =  {start[k]}')\n",
    "        exec(f'{key}_i1 = {start[k]}')\n",
    "        exec(f'{key}_plot = []')\n",
    "        formats_i += f'.replace(\"{key}\", str({key}_i)).replace(\"x\",str(x))'\n",
    "        formats_i1 += f'.replace(\"{key}\", str({key}_i1)).replace(\"x\",str(x+limits[2]))'\n",
    "        k += 1\n",
    "\n",
    "        \n",
    "    for x in x_plot:\n",
    "        \n",
    "        for key, val in dict_of_func.items():\n",
    "            exec(f'{key}_i = {key}_i1')\n",
    "            \n",
    "        for key, val in dict_of_func.items():\n",
    "            exec(f'{key}_i1 = float(eval(str({key}_i)+\"+\"+str({limits[2]})+\"*\"+str(eval(\"{val}\"{formats_i}))))')\n",
    "                \n",
    "        for key, val in dict_of_func.items():\n",
    "            exec(f'{key}_i1 = float(eval(str({key}_i))){\"+\"}{limits[2]}/2{\"*(\"}float(eval(\"{val}\"{formats_i})){\"+\"}float(eval(\"{val}\"{formats_i1})){\")\"}')\n",
    "            \n",
    "        for key, val in dict_of_func.items():\n",
    "            exec(f'{key}_plot.append({key}_i1)')\n",
    "    \n",
    "    dict_for_df = {'x': x_plot}\n",
    "    for key, val in dict_of_func.items():  \n",
    "        exec(f'dict_for_df[\"{key}\"] = {key}_plot')\n",
    "        \n",
    "    return DataFrame(dict_for_df)"
   ]
  },
  {
   "cell_type": "markdown",
   "metadata": {},
   "source": [
    "# Метод Рунге-Кутта"
   ]
  },
  {
   "cell_type": "code",
   "execution_count": 17,
   "metadata": {},
   "outputs": [],
   "source": [
    "def Runge_Kutta(functions, start, limits):\n",
    "    \n",
    "    '''\n",
    "    Входные данные:\n",
    "    Функции - [func1, func2 ...],\n",
    "    Нач усл - [y1, y2 ...],\n",
    "    Границы - [left, right, step]   \n",
    "    '''\n",
    "    \n",
    "    from numpy import arange, e, sin, cos\n",
    "    import matplotlib.pyplot as plt\n",
    "    from pandas import DataFrame\n",
    "    \n",
    "    dict_of_func = {}\n",
    "    for func in functions:\n",
    "        dict_of_func[func[:(func.find(\"'\"))]] = func[(func.find('=')+1):].replace(' ','')\n",
    "\n",
    "    x_plot = arange(limits[0],limits[1] + limits[2],limits[2])\n",
    "    \n",
    "\n",
    "    k = 0\n",
    "    formats_i_1 = ''\n",
    "    formats_i_2 = ''\n",
    "    formats_i_3 = ''\n",
    "    formats_i_4 = ''\n",
    "    \n",
    "    for key, val in dict_of_func.items():\n",
    "        exec(f'{key}_i =  {start[k]}')\n",
    "        exec(f'{key}_plot = []')\n",
    "        formats_i_1 += f'.replace(\"{key}\", str({key}_i)).replace(\"x\",str(x))'\n",
    "        formats_i_2 += f'.replace(\"{key}\", str({key}_i + {key}_1/2)).replace(\"x\",str(x + limits[2]/2))'\n",
    "        formats_i_3 += f'.replace(\"{key}\", str({key}_i + {key}_2/2)).replace(\"x\",str(x + limits[2]/2))'\n",
    "        formats_i_4 += f'.replace(\"{key}\", str({key}_i + {key}_3/2)).replace(\"x\",str(x + limits[2]/2))'\n",
    "        k += 1\n",
    "\n",
    "        \n",
    "    for x in x_plot:\n",
    "         \n",
    "        for key, val in dict_of_func.items():\n",
    "            exec(f'{key}_plot.append({key}_i)')\n",
    "            \n",
    "        for key, val in dict_of_func.items():\n",
    "            exec(f'{key}_1 = {limits[2]} * float(eval(\"{val}\"{formats_i_1}))')\n",
    "            \n",
    "        for key, val in dict_of_func.items():\n",
    "            exec(f'{key}_2 = {limits[2]} * float(eval(\"{val}\"{formats_i_2}))')\n",
    "                \n",
    "        for key, val in dict_of_func.items():\n",
    "            exec(f'{key}_3 = {limits[2]} * float(eval(\"{val}\"{formats_i_3}))')\n",
    "            \n",
    "        for key, val in dict_of_func.items():\n",
    "            exec(f'{key}_4 = {limits[2]} * float(eval(\"{val}\"{formats_i_4}))')\n",
    "    \n",
    "        for key, val in dict_of_func.items():\n",
    "            exec(f'{key}_i = {key}_i + (1/6)*({key}_1+2*{key}_2+2*{key}_3+{key}_4)')\n",
    "            \n",
    "        \n",
    "                 \n",
    "    dict_for_df = {'x': x_plot}\n",
    "    for key, val in dict_of_func.items():  \n",
    "        exec(f'dict_for_df[\"{key}\"] = {key}_plot')\n",
    "        \n",
    "    return DataFrame(dict_for_df)"
   ]
  },
  {
   "cell_type": "code",
   "execution_count": 18,
   "metadata": {},
   "outputs": [
    {
     "data": {
      "text/html": [
       "<div>\n",
       "<style scoped>\n",
       "    .dataframe tbody tr th:only-of-type {\n",
       "        vertical-align: middle;\n",
       "    }\n",
       "\n",
       "    .dataframe tbody tr th {\n",
       "        vertical-align: top;\n",
       "    }\n",
       "\n",
       "    .dataframe thead th {\n",
       "        text-align: right;\n",
       "    }\n",
       "</style>\n",
       "<table border=\"1\" class=\"dataframe\">\n",
       "  <thead>\n",
       "    <tr style=\"text-align: right;\">\n",
       "      <th></th>\n",
       "      <th>x</th>\n",
       "      <th>y</th>\n",
       "      <th>z</th>\n",
       "    </tr>\n",
       "  </thead>\n",
       "  <tbody>\n",
       "    <tr>\n",
       "      <th>0</th>\n",
       "      <td>0.0</td>\n",
       "      <td>1.005500</td>\n",
       "      <td>0.095275</td>\n",
       "    </tr>\n",
       "    <tr>\n",
       "      <th>1</th>\n",
       "      <td>0.1</td>\n",
       "      <td>1.022079</td>\n",
       "      <td>0.182575</td>\n",
       "    </tr>\n",
       "    <tr>\n",
       "      <th>2</th>\n",
       "      <td>0.2</td>\n",
       "      <td>1.051034</td>\n",
       "      <td>0.263776</td>\n",
       "    </tr>\n",
       "    <tr>\n",
       "      <th>3</th>\n",
       "      <td>0.3</td>\n",
       "      <td>1.093848</td>\n",
       "      <td>0.340706</td>\n",
       "    </tr>\n",
       "    <tr>\n",
       "      <th>4</th>\n",
       "      <td>0.4</td>\n",
       "      <td>1.152184</td>\n",
       "      <td>0.415171</td>\n",
       "    </tr>\n",
       "    <tr>\n",
       "      <th>5</th>\n",
       "      <td>0.5</td>\n",
       "      <td>1.227886</td>\n",
       "      <td>0.488973</td>\n",
       "    </tr>\n",
       "    <tr>\n",
       "      <th>6</th>\n",
       "      <td>0.6</td>\n",
       "      <td>1.322978</td>\n",
       "      <td>0.563924</td>\n",
       "    </tr>\n",
       "    <tr>\n",
       "      <th>7</th>\n",
       "      <td>0.7</td>\n",
       "      <td>1.439666</td>\n",
       "      <td>0.641868</td>\n",
       "    </tr>\n",
       "    <tr>\n",
       "      <th>8</th>\n",
       "      <td>0.8</td>\n",
       "      <td>1.580341</td>\n",
       "      <td>0.724693</td>\n",
       "    </tr>\n",
       "    <tr>\n",
       "      <th>9</th>\n",
       "      <td>0.9</td>\n",
       "      <td>1.747589</td>\n",
       "      <td>0.814342</td>\n",
       "    </tr>\n",
       "  </tbody>\n",
       "</table>\n",
       "</div>"
      ],
      "text/plain": [
       "     x         y         z\n",
       "0  0.0  1.005500  0.095275\n",
       "1  0.1  1.022079  0.182575\n",
       "2  0.2  1.051034  0.263776\n",
       "3  0.3  1.093848  0.340706\n",
       "4  0.4  1.152184  0.415171\n",
       "5  0.5  1.227886  0.488973\n",
       "6  0.6  1.322978  0.563924\n",
       "7  0.7  1.439666  0.641868\n",
       "8  0.8  1.580341  0.724693\n",
       "9  0.9  1.747589  0.814342"
      ]
     },
     "execution_count": 18,
     "metadata": {},
     "output_type": "execute_result"
    }
   ],
   "source": [
    "Eiler_Koshi([\"y' = x**2 + z\",\"z' = y - z\"],[1, 0],[0, 1, 0.1])"
   ]
  },
  {
   "cell_type": "code",
   "execution_count": 19,
   "metadata": {},
   "outputs": [
    {
     "data": {
      "text/html": [
       "<div>\n",
       "<style scoped>\n",
       "    .dataframe tbody tr th:only-of-type {\n",
       "        vertical-align: middle;\n",
       "    }\n",
       "\n",
       "    .dataframe tbody tr th {\n",
       "        vertical-align: top;\n",
       "    }\n",
       "\n",
       "    .dataframe thead th {\n",
       "        text-align: right;\n",
       "    }\n",
       "</style>\n",
       "<table border=\"1\" class=\"dataframe\">\n",
       "  <thead>\n",
       "    <tr style=\"text-align: right;\">\n",
       "      <th></th>\n",
       "      <th>x</th>\n",
       "      <th>y</th>\n",
       "      <th>z</th>\n",
       "    </tr>\n",
       "  </thead>\n",
       "  <tbody>\n",
       "    <tr>\n",
       "      <th>0</th>\n",
       "      <td>0</td>\n",
       "      <td>1.000000</td>\n",
       "      <td>0.000000</td>\n",
       "    </tr>\n",
       "    <tr>\n",
       "      <th>1</th>\n",
       "      <td>1</td>\n",
       "      <td>1.552083</td>\n",
       "      <td>0.822917</td>\n",
       "    </tr>\n",
       "    <tr>\n",
       "      <th>2</th>\n",
       "      <td>2</td>\n",
       "      <td>4.901693</td>\n",
       "      <td>2.253038</td>\n",
       "    </tr>\n",
       "    <tr>\n",
       "      <th>3</th>\n",
       "      <td>3</td>\n",
       "      <td>14.657724</td>\n",
       "      <td>6.847805</td>\n",
       "    </tr>\n",
       "    <tr>\n",
       "      <th>4</th>\n",
       "      <td>4</td>\n",
       "      <td>37.603399</td>\n",
       "      <td>18.827636</td>\n",
       "    </tr>\n",
       "    <tr>\n",
       "      <th>5</th>\n",
       "      <td>5</td>\n",
       "      <td>86.036251</td>\n",
       "      <td>45.795248</td>\n",
       "    </tr>\n",
       "    <tr>\n",
       "      <th>6</th>\n",
       "      <td>6</td>\n",
       "      <td>182.213422</td>\n",
       "      <td>101.506521</td>\n",
       "    </tr>\n",
       "    <tr>\n",
       "      <th>7</th>\n",
       "      <td>7</td>\n",
       "      <td>366.414589</td>\n",
       "      <td>210.855680</td>\n",
       "    </tr>\n",
       "    <tr>\n",
       "      <th>8</th>\n",
       "      <td>8</td>\n",
       "      <td>711.535288</td>\n",
       "      <td>418.894649</td>\n",
       "    </tr>\n",
       "    <tr>\n",
       "      <th>9</th>\n",
       "      <td>9</td>\n",
       "      <td>1349.497093</td>\n",
       "      <td>807.155441</td>\n",
       "    </tr>\n",
       "    <tr>\n",
       "      <th>10</th>\n",
       "      <td>10</td>\n",
       "      <td>2519.043027</td>\n",
       "      <td>1523.189362</td>\n",
       "    </tr>\n",
       "  </tbody>\n",
       "</table>\n",
       "</div>"
      ],
      "text/plain": [
       "     x            y            z\n",
       "0    0     1.000000     0.000000\n",
       "1    1     1.552083     0.822917\n",
       "2    2     4.901693     2.253038\n",
       "3    3    14.657724     6.847805\n",
       "4    4    37.603399    18.827636\n",
       "5    5    86.036251    45.795248\n",
       "6    6   182.213422   101.506521\n",
       "7    7   366.414589   210.855680\n",
       "8    8   711.535288   418.894649\n",
       "9    9  1349.497093   807.155441\n",
       "10  10  2519.043027  1523.189362"
      ]
     },
     "execution_count": 19,
     "metadata": {},
     "output_type": "execute_result"
    }
   ],
   "source": [
    "Runge_Kutta([\"y' = x**2 + z\",\"z' = y - z\"],[1, 0],[0, 10, 1])"
   ]
  },
  {
   "cell_type": "markdown",
   "metadata": {},
   "source": [
    "# Теперь напишем функцию, которая по данным из таблицы строит апроксимацию, интерполяцию и графики.\n"
   ]
  },
  {
   "cell_type": "markdown",
   "metadata": {},
   "source": [
    "# Вспомогательные "
   ]
  },
  {
   "cell_type": "code",
   "execution_count": 20,
   "metadata": {},
   "outputs": [],
   "source": [
    "def newton_table(x, y):\n",
    "    import numpy as np\n",
    "    table = [[0 for j in range(len(x))] for i in range(len(x)+1)]\n",
    "    table[0], table[1] = x, y \n",
    "    for ind, el in enumerate(table[2:]):\n",
    "        for i in range(len(el)-ind-1):\n",
    "            table[ind+2][i] = -(table[ind+1][i] - table[ind+1][i+1])\n",
    "    table = np.array(table).T\n",
    "    return table\n",
    "\n",
    "def factor(n):\n",
    "    r = 1\n",
    "    for i in range(1,n+1):\n",
    "        r = r*i   \n",
    "    return r\n",
    "\n",
    "def check_step(x):\n",
    "    s = x[1] - x[0]\n",
    "    return s\n",
    "\n",
    "def first_newton_F(x, y, table):\n",
    "    from sympy import simplify, expand, Symbol\n",
    "    P = ''\n",
    "    h = check_step(x)\n",
    "    \n",
    "    for i in range(1, len(y) + 1):\n",
    "        skobochki = ''\n",
    "        for j in range(1, i):\n",
    "            skobochki += f'*(x - {table[j-1][0]})'\n",
    "            \n",
    "        helpi = f'{table[0][i]}/({factor(i-1)}*{h**(i-1)})'\n",
    "        if i == 1:\n",
    "            P += f'({helpi}){skobochki}'\n",
    "        else:\n",
    "            P += f'+({helpi}){skobochki}'\n",
    "    return P\n",
    "\n",
    "def second_newton_F(x, y, table):\n",
    "    \n",
    "    from sympy import simplify, expand, Symbol\n",
    "    P = ''\n",
    "    h = check_step(x)\n",
    "    \n",
    "    for i in range(1, len(y)+1):\n",
    "        skobochki = ''\n",
    "        for j in range(1, i):\n",
    "            skobochki += f'*(x - {table[len(y)-j][0]})'\n",
    "        \n",
    "        helpi = f'{table[len(y) - i][i]}/({factor(i-1)}*{h**(i-1)})'\n",
    "        if i == 1:\n",
    "            P += f'({helpi}){skobochki}'\n",
    "        else:\n",
    "            P += f'+({helpi}){skobochki}'\n",
    "\n",
    "    return P         \n",
    "def newton(X, Y, header = False, delimiter = ',', flag = True):\n",
    "    import matplotlib.pyplot as plt\n",
    "    from numpy import arange\n",
    "    print('----------Интерполяция методом Ньютона-----------')\n",
    "    \n",
    "    x, y = X, Y\n",
    "    \n",
    "    F = first_newton_F(x, y, newton_table(x, y))\n",
    "    \n",
    "    x1 = []\n",
    "    y1 = []\n",
    "\n",
    "    for i in arange(min(x), max(x), 0.01):\n",
    "        x1.append(i)\n",
    "        y1.append(eval(F.replace(\"x\", str(i))))\n",
    "#     print(F)\n",
    "    plt.plot(x1,y1)\n",
    "    plt.show()\n",
    "    \n",
    "        \n",
    "        \n",
    "    \n"
   ]
  },
  {
   "cell_type": "code",
   "execution_count": 21,
   "metadata": {},
   "outputs": [],
   "source": [
    "def ax2(X, Y, flag = True):\n",
    "    x, y = X, Y\n",
    "    from numpy import arange\n",
    "    from scipy.linalg import solve\n",
    "    import matplotlib.pyplot as plt\n",
    "    \n",
    "    kx = solve([[sum([i**4 for i in x]),sum([i**3 for i in x]),sum([i**2 for i in x])],\n",
    "                [sum([i**3 for i in x]),sum([i**2 for i in x]),sum([i**1 for i in x])],\n",
    "                [sum([i**2 for i in x]),sum([i**1 for i in x]),len(x)]],\n",
    "                [[sum([(x[i]**2)*y[i] for i in range(len(x))])],\n",
    "                 [sum([x[i]*y[i] for i in range(len(x))])],\n",
    "                 [sum([y[i] for i in range(len(x))])]])\n",
    "    x1 = []\n",
    "    y1 = []\n",
    "    for i in arange(min(x), max(x), 0.01):\n",
    "        x1.append(i)\n",
    "        y1.append(kx[0][0]*(i)**2+kx[1][0]*i+kx[2][0])\n",
    "    print('----------------Апроксимация----------------')\n",
    "    print(f'y = {kx[0][0]}x**2+{kx[1][0]}x + {kx[2][0]}')\n",
    "    print()\n",
    "    plt.plot(x1, y1)\n",
    "    plt.scatter(x, y, color ='red')\n",
    "    plt.show()"
   ]
  },
  {
   "cell_type": "markdown",
   "metadata": {},
   "source": [
    "# Функция анализа"
   ]
  },
  {
   "cell_type": "code",
   "execution_count": 22,
   "metadata": {},
   "outputs": [],
   "source": [
    "def analysis(df):\n",
    "    import matplotlib.pyplot as plt\n",
    "    \n",
    "    cols = df.columns.tolist()\n",
    "    \n",
    "    for element in cols[1:]:\n",
    "        plt.scatter(df[cols[0]], df[element], label = f'{element}({cols[0]})')\n",
    "        plt.legend()\n",
    "        plt.show()\n",
    "        newton(list(df[cols[0]]),list(df[element]))\n",
    "        ax2(list(df[cols[0]]),list(df[element]))\n",
    "    \n",
    "# analysis(Runge_Kutta([\"y' = x**2 + z\",\"z' = y - z\"],[1, 0],[0, 1, 0.1]))"
   ]
  },
  {
   "cell_type": "markdown",
   "metadata": {},
   "source": [
    "# Проверка на простейшем примере "
   ]
  },
  {
   "cell_type": "code",
   "execution_count": 23,
   "metadata": {},
   "outputs": [
    {
     "data": {
      "image/png": "[encoded data removed]",
      "text/plain": [
       "<Figure size 432x288 with 1 Axes>"
      ]
     },
     "metadata": {
      "needs_background": "light"
     },
     "output_type": "display_data"
    },
    {
     "name": "stdout",
     "output_type": "stream",
     "text": [
      "----------Интерполяция методом Ньютона-----------\n"
     ]
    },
    {
     "data": {
      "image/png": "[encoded data removed]",
      "text/plain": [
       "<Figure size 432x288 with 1 Axes>"
      ]
     },
     "metadata": {
      "needs_background": "light"
     },
     "output_type": "display_data"
    },
    {
     "name": "stdout",
     "output_type": "stream",
     "text": [
      "----------------Апроксимация----------------\n",
      "y = 0.49999999999999867x**2+0.09999999999999955x + -1.4949999999999992\n",
      "\n"
     ]
    },
    {
     "data": {
      "image/png": "[encoded data removed]",
      "text/plain": [
       "<Figure size 432x288 with 1 Axes>"
      ]
     },
     "metadata": {
      "needs_background": "light"
     },
     "output_type": "display_data"
    }
   ],
   "source": [
    "analysis(Eiler_Koshi([\"y' = x\"],[-1],[-1, 1, 0.1])[:-1])"
   ]
  },
  {
   "cell_type": "markdown",
   "metadata": {},
   "source": [
    "# Решение варианта №4"
   ]
  },
  {
   "cell_type": "code",
   "execution_count": 24,
   "metadata": {},
   "outputs": [
    {
     "data": {
      "image/png": "[encoded data removed]",
      "text/plain": [
       "<Figure size 432x288 with 1 Axes>"
      ]
     },
     "metadata": {
      "needs_background": "light"
     },
     "output_type": "display_data"
    },
    {
     "name": "stdout",
     "output_type": "stream",
     "text": [
      "----------Интерполяция методом Ньютона-----------\n"
     ]
    },
    {
     "data": {
      "image/png": "[encoded data removed]",
      "text/plain": [
       "<Figure size 432x288 with 1 Axes>"
      ]
     },
     "metadata": {
      "needs_background": "light"
     },
     "output_type": "display_data"
    },
    {
     "name": "stdout",
     "output_type": "stream",
     "text": [
      "----------------Апроксимация----------------\n",
      "y = 0.8769993691305049x**2+-0.17021489180629681x + 1.010788947424581\n",
      "\n"
     ]
    },
    {
     "data": {
      "image/png": "[encoded data removed]",
      "text/plain": [
       "<Figure size 432x288 with 1 Axes>"
      ]
     },
     "metadata": {
      "needs_background": "light"
     },
     "output_type": "display_data"
    },
    {
     "data": {
      "image/png": "[encoded data removed]",
      "text/plain": [
       "<Figure size 432x288 with 1 Axes>"
      ]
     },
     "metadata": {
      "needs_background": "light"
     },
     "output_type": "display_data"
    },
    {
     "name": "stdout",
     "output_type": "stream",
     "text": [
      "----------Интерполяция методом Ньютона-----------\n"
     ]
    },
    {
     "data": {
      "image/png": "[encoded data removed]",
      "text/plain": [
       "<Figure size 432x288 with 1 Axes>"
      ]
     },
     "metadata": {
      "needs_background": "light"
     },
     "output_type": "display_data"
    },
    {
     "name": "stdout",
     "output_type": "stream",
     "text": [
      "----------------Апроксимация----------------\n",
      "y = -0.047281633287408656x**2+0.8327764727152166x + 0.011045284328287115\n",
      "\n"
     ]
    },
    {
     "data": {
      "image/png": "[encoded data removed]",
      "text/plain": [
       "<Figure size 432x288 with 1 Axes>"
      ]
     },
     "metadata": {
      "needs_background": "light"
     },
     "output_type": "display_data"
    }
   ],
   "source": [
    "analysis(Runge_Kutta([\"y' = x**2 + z\",\"z' = y - z\"],[1, 0],[0, 1, 0.1]))"
   ]
  },
  {
   "cell_type": "code",
   "execution_count": 25,
   "metadata": {},
   "outputs": [
    {
     "data": {
      "image/png": "[encoded data removed]",
      "text/plain": [
       "<Figure size 432x288 with 1 Axes>"
      ]
     },
     "metadata": {
      "needs_background": "light"
     },
     "output_type": "display_data"
    },
    {
     "name": "stdout",
     "output_type": "stream",
     "text": [
      "----------Интерполяция методом Ньютона-----------\n"
     ]
    },
    {
     "data": {
      "image/png": "[encoded data removed]",
      "text/plain": [
       "<Figure size 432x288 with 1 Axes>"
      ]
     },
     "metadata": {
      "needs_background": "light"
     },
     "output_type": "display_data"
    },
    {
     "name": "stdout",
     "output_type": "stream",
     "text": [
      "----------------Апроксимация----------------\n",
      "y = 0.9325448497465215x**2+-0.033660527664017316x + 1.013682307202466\n",
      "\n"
     ]
    },
    {
     "data": {
      "image/png": "[encoded data removed]",
      "text/plain": [
       "<Figure size 432x288 with 1 Axes>"
      ]
     },
     "metadata": {
      "needs_background": "light"
     },
     "output_type": "display_data"
    },
    {
     "data": {
      "image/png": "[encoded data removed]",
      "text/plain": [
       "<Figure size 432x288 with 1 Axes>"
      ]
     },
     "metadata": {
      "needs_background": "light"
     },
     "output_type": "display_data"
    },
    {
     "name": "stdout",
     "output_type": "stream",
     "text": [
      "----------Интерполяция методом Ньютона-----------\n"
     ]
    },
    {
     "data": {
      "image/png": "[encoded data removed]",
      "text/plain": [
       "<Figure size 432x288 with 1 Axes>"
      ]
     },
     "metadata": {
      "needs_background": "light"
     },
     "output_type": "display_data"
    },
    {
     "name": "stdout",
     "output_type": "stream",
     "text": [
      "----------------Апроксимация----------------\n",
      "y = 0.013684940891327817x**2+0.7695226328294799x + 0.10294496954559935\n",
      "\n"
     ]
    },
    {
     "data": {
      "image/png": "[encoded data removed]",
      "text/plain": [
       "<Figure size 432x288 with 1 Axes>"
      ]
     },
     "metadata": {
      "needs_background": "light"
     },
     "output_type": "display_data"
    }
   ],
   "source": [
    "analysis(Eiler_Koshi([\"y' = x**2 + z\",\"z' = y - z\"],[1, 0],[0, 1, 0.1]))"
   ]
  },
  {
   "cell_type": "markdown",
   "metadata": {},
   "source": [
    "#### Оба метода дают примерно одинаковые результаты "
   ]
  },
  {
   "cell_type": "markdown",
   "metadata": {},
   "source": [
    "# ОТВЕТЫ НА ВОПРОСЫ (хоть и ни одного из них нет в тз...)"
   ]
  },
  {
   "cell_type": "markdown",
   "metadata": {},
   "source": [
    "Мини туториал, для того чтобы ввести систему уравнений:"
   ]
  },
  {
   "cell_type": "markdown",
   "metadata": {},
   "source": [
    "1) Создаем список А, в который по очередно вписываем все формулы системы "
   ]
  },
  {
   "cell_type": "markdown",
   "metadata": {},
   "source": [
    "2) Создаем список B, в который поочердно записываем начальные условия. Тк для всех условй x - одинаковый и равен началу интервала, то просто запишите y, который соответствует уровнению по порядку "
   ]
  },
  {
   "cell_type": "markdown",
   "metadata": {},
   "source": [
    "3) Создаем список C, в формате [Начало, Конец, Шаг]"
   ]
  },
  {
   "cell_type": "markdown",
   "metadata": {},
   "source": [
    "4) Вызываем функцию допустим Eiler_Koshi(A, B, C) и радуемся таблице значений"
   ]
  },
  {
   "cell_type": "markdown",
   "metadata": {},
   "source": [
    "*5) Если нужна визуализация, просто к таблице применяем функцию analysis\n",
    "Пример analysis(Eiler_Koshi([\"y' = x**2 + z\",\"z' = y - z\"],[1, 0],[0, 1, 0.1]))"
   ]
  },
  {
   "cell_type": "markdown",
   "metadata": {},
   "source": [
    "## Сравнение..."
   ]
  },
  {
   "cell_type": "markdown",
   "metadata": {},
   "source": [
    "Единственный способ адекватно сравнить, это подставить в уравнения точки, посчитать y', а затем сравнить с посчитанным y' для этих же точек"
   ]
  },
  {
   "cell_type": "markdown",
   "metadata": {},
   "source": [
    "А вот для того чтобы посчитать y', нужна функция из самой первой домашки, к счастью у меня ее нет и я сейчас напишу её"
   ]
  },
  {
   "cell_type": "code",
   "execution_count": 26,
   "metadata": {},
   "outputs": [],
   "source": [
    "# ==================5 минут==================\n",
    "def diff(x, y):\n",
    "    y_dx = []\n",
    "    for ind in range(len(x[:-1])):\n",
    "        y_dx.append((y[ind + 1] - y[ind])/abs(x[ind + 1] - x[ind]))\n",
    "    y_dx.append(None)\n",
    "    return y_dx\n",
    "# ================3 минуты===================\n",
    "\n",
    "def diff_table(df1):\n",
    "    import copy\n",
    "    import pandas as pd\n",
    "    df = pd.DataFrame()\n",
    "    cols = df1.columns.tolist()\n",
    "    for el in cols[1:]:\n",
    "        df[f\"{el}\"] = diff(df1[cols[0]].tolist(),df1[el].tolist())\n",
    "    return df"
   ]
  },
  {
   "cell_type": "code",
   "execution_count": 27,
   "metadata": {},
   "outputs": [
    {
     "data": {
      "text/html": [
       "<div>\n",
       "<style scoped>\n",
       "    .dataframe tbody tr th:only-of-type {\n",
       "        vertical-align: middle;\n",
       "    }\n",
       "\n",
       "    .dataframe tbody tr th {\n",
       "        vertical-align: top;\n",
       "    }\n",
       "\n",
       "    .dataframe thead th {\n",
       "        text-align: right;\n",
       "    }\n",
       "</style>\n",
       "<table border=\"1\" class=\"dataframe\">\n",
       "  <thead>\n",
       "    <tr style=\"text-align: right;\">\n",
       "      <th></th>\n",
       "      <th>x</th>\n",
       "      <th>y</th>\n",
       "      <th>z</th>\n",
       "    </tr>\n",
       "  </thead>\n",
       "  <tbody>\n",
       "    <tr>\n",
       "      <th>0</th>\n",
       "      <td>0.0</td>\n",
       "      <td>1.005500</td>\n",
       "      <td>0.095275</td>\n",
       "    </tr>\n",
       "    <tr>\n",
       "      <th>1</th>\n",
       "      <td>0.1</td>\n",
       "      <td>1.022079</td>\n",
       "      <td>0.182575</td>\n",
       "    </tr>\n",
       "    <tr>\n",
       "      <th>2</th>\n",
       "      <td>0.2</td>\n",
       "      <td>1.051034</td>\n",
       "      <td>0.263776</td>\n",
       "    </tr>\n",
       "    <tr>\n",
       "      <th>3</th>\n",
       "      <td>0.3</td>\n",
       "      <td>1.093848</td>\n",
       "      <td>0.340706</td>\n",
       "    </tr>\n",
       "    <tr>\n",
       "      <th>4</th>\n",
       "      <td>0.4</td>\n",
       "      <td>1.152184</td>\n",
       "      <td>0.415171</td>\n",
       "    </tr>\n",
       "    <tr>\n",
       "      <th>5</th>\n",
       "      <td>0.5</td>\n",
       "      <td>1.227886</td>\n",
       "      <td>0.488973</td>\n",
       "    </tr>\n",
       "    <tr>\n",
       "      <th>6</th>\n",
       "      <td>0.6</td>\n",
       "      <td>1.322978</td>\n",
       "      <td>0.563924</td>\n",
       "    </tr>\n",
       "    <tr>\n",
       "      <th>7</th>\n",
       "      <td>0.7</td>\n",
       "      <td>1.439666</td>\n",
       "      <td>0.641868</td>\n",
       "    </tr>\n",
       "    <tr>\n",
       "      <th>8</th>\n",
       "      <td>0.8</td>\n",
       "      <td>1.580341</td>\n",
       "      <td>0.724693</td>\n",
       "    </tr>\n",
       "    <tr>\n",
       "      <th>9</th>\n",
       "      <td>0.9</td>\n",
       "      <td>1.747589</td>\n",
       "      <td>0.814342</td>\n",
       "    </tr>\n",
       "  </tbody>\n",
       "</table>\n",
       "</div>"
      ],
      "text/plain": [
       "     x         y         z\n",
       "0  0.0  1.005500  0.095275\n",
       "1  0.1  1.022079  0.182575\n",
       "2  0.2  1.051034  0.263776\n",
       "3  0.3  1.093848  0.340706\n",
       "4  0.4  1.152184  0.415171\n",
       "5  0.5  1.227886  0.488973\n",
       "6  0.6  1.322978  0.563924\n",
       "7  0.7  1.439666  0.641868\n",
       "8  0.8  1.580341  0.724693\n",
       "9  0.9  1.747589  0.814342"
      ]
     },
     "execution_count": 27,
     "metadata": {},
     "output_type": "execute_result"
    }
   ],
   "source": [
    "df = Eiler_Koshi([\"y' = x**2 + z\",\"z' = y - z\"],[1, 0],[0, 1, 0.1])\n",
    "df"
   ]
  },
  {
   "cell_type": "code",
   "execution_count": 28,
   "metadata": {},
   "outputs": [
    {
     "data": {
      "text/html": [
       "<div>\n",
       "<style scoped>\n",
       "    .dataframe tbody tr th:only-of-type {\n",
       "        vertical-align: middle;\n",
       "    }\n",
       "\n",
       "    .dataframe tbody tr th {\n",
       "        vertical-align: top;\n",
       "    }\n",
       "\n",
       "    .dataframe thead th {\n",
       "        text-align: right;\n",
       "    }\n",
       "</style>\n",
       "<table border=\"1\" class=\"dataframe\">\n",
       "  <thead>\n",
       "    <tr style=\"text-align: right;\">\n",
       "      <th></th>\n",
       "      <th>y</th>\n",
       "      <th>z</th>\n",
       "    </tr>\n",
       "  </thead>\n",
       "  <tbody>\n",
       "    <tr>\n",
       "      <th>0</th>\n",
       "      <td>0.165786</td>\n",
       "      <td>0.873003</td>\n",
       "    </tr>\n",
       "    <tr>\n",
       "      <th>1</th>\n",
       "      <td>0.289550</td>\n",
       "      <td>0.812006</td>\n",
       "    </tr>\n",
       "    <tr>\n",
       "      <th>2</th>\n",
       "      <td>0.428139</td>\n",
       "      <td>0.769302</td>\n",
       "    </tr>\n",
       "    <tr>\n",
       "      <th>3</th>\n",
       "      <td>0.583363</td>\n",
       "      <td>0.744653</td>\n",
       "    </tr>\n",
       "    <tr>\n",
       "      <th>4</th>\n",
       "      <td>0.757022</td>\n",
       "      <td>0.738013</td>\n",
       "    </tr>\n",
       "    <tr>\n",
       "      <th>5</th>\n",
       "      <td>0.950918</td>\n",
       "      <td>0.749514</td>\n",
       "    </tr>\n",
       "    <tr>\n",
       "      <th>6</th>\n",
       "      <td>1.166877</td>\n",
       "      <td>0.779445</td>\n",
       "    </tr>\n",
       "    <tr>\n",
       "      <th>7</th>\n",
       "      <td>1.406758</td>\n",
       "      <td>0.828245</td>\n",
       "    </tr>\n",
       "    <tr>\n",
       "      <th>8</th>\n",
       "      <td>1.672475</td>\n",
       "      <td>0.896490</td>\n",
       "    </tr>\n",
       "    <tr>\n",
       "      <th>9</th>\n",
       "      <td>NaN</td>\n",
       "      <td>NaN</td>\n",
       "    </tr>\n",
       "  </tbody>\n",
       "</table>\n",
       "</div>"
      ],
      "text/plain": [
       "          y         z\n",
       "0  0.165786  0.873003\n",
       "1  0.289550  0.812006\n",
       "2  0.428139  0.769302\n",
       "3  0.583363  0.744653\n",
       "4  0.757022  0.738013\n",
       "5  0.950918  0.749514\n",
       "6  1.166877  0.779445\n",
       "7  1.406758  0.828245\n",
       "8  1.672475  0.896490\n",
       "9       NaN       NaN"
      ]
     },
     "execution_count": 28,
     "metadata": {},
     "output_type": "execute_result"
    }
   ],
   "source": [
    "diff_table(df)"
   ]
  },
  {
   "cell_type": "markdown",
   "metadata": {},
   "source": [
    "Теперь нужна функция, которая считает y' по найденным значениям (Мы просто подставляем в формулы)"
   ]
  },
  {
   "cell_type": "code",
   "execution_count": 29,
   "metadata": {},
   "outputs": [
    {
     "data": {
      "text/html": [
       "<div>\n",
       "<style scoped>\n",
       "    .dataframe tbody tr th:only-of-type {\n",
       "        vertical-align: middle;\n",
       "    }\n",
       "\n",
       "    .dataframe tbody tr th {\n",
       "        vertical-align: top;\n",
       "    }\n",
       "\n",
       "    .dataframe thead th {\n",
       "        text-align: right;\n",
       "    }\n",
       "</style>\n",
       "<table border=\"1\" class=\"dataframe\">\n",
       "  <thead>\n",
       "    <tr style=\"text-align: right;\">\n",
       "      <th></th>\n",
       "      <th>y</th>\n",
       "      <th>z</th>\n",
       "    </tr>\n",
       "  </thead>\n",
       "  <tbody>\n",
       "    <tr>\n",
       "      <th>0</th>\n",
       "      <td>0.095275</td>\n",
       "      <td>0.910225</td>\n",
       "    </tr>\n",
       "    <tr>\n",
       "      <th>1</th>\n",
       "      <td>0.192575</td>\n",
       "      <td>0.839503</td>\n",
       "    </tr>\n",
       "    <tr>\n",
       "      <th>2</th>\n",
       "      <td>0.303776</td>\n",
       "      <td>0.787258</td>\n",
       "    </tr>\n",
       "    <tr>\n",
       "      <th>3</th>\n",
       "      <td>0.430706</td>\n",
       "      <td>0.753141</td>\n",
       "    </tr>\n",
       "    <tr>\n",
       "      <th>4</th>\n",
       "      <td>0.575171</td>\n",
       "      <td>0.737013</td>\n",
       "    </tr>\n",
       "    <tr>\n",
       "      <th>5</th>\n",
       "      <td>0.738973</td>\n",
       "      <td>0.738913</td>\n",
       "    </tr>\n",
       "    <tr>\n",
       "      <th>6</th>\n",
       "      <td>0.923924</td>\n",
       "      <td>0.759054</td>\n",
       "    </tr>\n",
       "    <tr>\n",
       "      <th>7</th>\n",
       "      <td>1.131868</td>\n",
       "      <td>0.797797</td>\n",
       "    </tr>\n",
       "    <tr>\n",
       "      <th>8</th>\n",
       "      <td>1.364693</td>\n",
       "      <td>0.855648</td>\n",
       "    </tr>\n",
       "    <tr>\n",
       "      <th>9</th>\n",
       "      <td>1.624342</td>\n",
       "      <td>0.933247</td>\n",
       "    </tr>\n",
       "  </tbody>\n",
       "</table>\n",
       "</div>"
      ],
      "text/plain": [
       "          y         z\n",
       "0  0.095275  0.910225\n",
       "1  0.192575  0.839503\n",
       "2  0.303776  0.787258\n",
       "3  0.430706  0.753141\n",
       "4  0.575171  0.737013\n",
       "5  0.738973  0.738913\n",
       "6  0.923924  0.759054\n",
       "7  1.131868  0.797797\n",
       "8  1.364693  0.855648\n",
       "9  1.624342  0.933247"
      ]
     },
     "execution_count": 29,
     "metadata": {},
     "output_type": "execute_result"
    }
   ],
   "source": [
    "def reverse(functions, table):\n",
    "    \n",
    "    '''\n",
    "    Входные данные:\n",
    "    Функции - [func1, func2 ...],\n",
    "    Таблица с посчитанными кефами \n",
    "    '''\n",
    "    \n",
    "    from numpy import arange, e, sin, cos\n",
    "    import matplotlib.pyplot as plt\n",
    "    from pandas import DataFrame\n",
    "    \n",
    "    df = DataFrame()\n",
    "    \n",
    "    dict_of_func = {}\n",
    "    for func in functions:\n",
    "        dict_of_func[func[:(func.find(\"'\"))]] = func[(func.find('=')+1):].replace(' ','')\n",
    "\n",
    "    \n",
    "    formats_i = '.replace(\"x\", \"table['+\"'x'\"+']\")'\n",
    "    \n",
    "    for key, val in dict_of_func.items():\n",
    "        formats_i += f'.replace(\"{key}\", \"table['+f\"'{key}'\"+']\")'\n",
    "    for key, val in dict_of_func.items():\n",
    "        exec(f'df[\"{key}\"] = eval(\"{val}\"{formats_i})')\n",
    "        \n",
    "    return df\n",
    "\n",
    "df2 = reverse([\"y' = x**2 + z\",\"z' = y - z\"],df)\n",
    "df2"
   ]
  },
  {
   "cell_type": "markdown",
   "metadata": {},
   "source": [
    "В найденных таблицах нет штрихов для того чтобы... А не для чего, мне просто лень этой красотой заниматься"
   ]
  },
  {
   "cell_type": "code",
   "execution_count": 83,
   "metadata": {},
   "outputs": [
    {
     "data": {
      "text/plain": [
       "y    1.663928\n",
       "z    0.194446\n",
       "dtype: float64"
      ]
     },
     "execution_count": 83,
     "metadata": {},
     "output_type": "execute_result"
    }
   ],
   "source": [
    "def konechnay_oshibka(function, df):\n",
    "#     print(reverse(function, df))\n",
    "#     print(diff_table(df))\n",
    "    return abs(reverse(function, df) - diff_table(df)).sum()\n",
    "\n",
    "konechnay_oshibka([\"y' = x**2 + z\",\"z' = y - z\"],Eiler_Koshi([\"y' = x**2 + z\",\"z' = y - z\"],[1, 0],[0, 1, 0.1]))"
   ]
  },
  {
   "cell_type": "code",
   "execution_count": 31,
   "metadata": {},
   "outputs": [
    {
     "data": {
      "text/plain": [
       "y    0.732512\n",
       "z    0.193264\n",
       "dtype: float64"
      ]
     },
     "execution_count": 31,
     "metadata": {},
     "output_type": "execute_result"
    }
   ],
   "source": [
    "konechnay_oshibka([\"y' = x**2 + z\",\"z' = y - z\"],Runge_Kutta([\"y' = x**2 + z\",\"z' = y - z\"],[1, 0],[0, 1, 0.1]))"
   ]
  },
  {
   "cell_type": "markdown",
   "metadata": {},
   "source": [
    "Получаем, то насколько мы ошиблись в каждой функции."
   ]
  },
  {
   "cell_type": "markdown",
   "metadata": {},
   "source": [
    "### По Итогу Рунге-Кутта точнее, но по графикам примерно одинаково"
   ]
  },
  {
   "cell_type": "markdown",
   "metadata": {},
   "source": [
    "И мне кажется, что всё будет меняться от системы к системе. Да и вообще метод которым я считал производные по точкам не очень классный "
   ]
  },
  {
   "cell_type": "markdown",
   "metadata": {},
   "source": [
    "# Теперь сравним с другими библиотеками "
   ]
  },
  {
   "cell_type": "code",
   "execution_count": 46,
   "metadata": {},
   "outputs": [],
   "source": [
    "import numpy as np\n",
    "from scipy. integrate import odeint\n",
    "import matplotlib.pyplot as plt\n",
    "import pandas as pd"
   ]
  },
  {
   "cell_type": "code",
   "execution_count": 56,
   "metadata": {},
   "outputs": [
    {
     "data": {
      "text/html": [
       "<div>\n",
       "<style scoped>\n",
       "    .dataframe tbody tr th:only-of-type {\n",
       "        vertical-align: middle;\n",
       "    }\n",
       "\n",
       "    .dataframe tbody tr th {\n",
       "        vertical-align: top;\n",
       "    }\n",
       "\n",
       "    .dataframe thead th {\n",
       "        text-align: right;\n",
       "    }\n",
       "</style>\n",
       "<table border=\"1\" class=\"dataframe\">\n",
       "  <thead>\n",
       "    <tr style=\"text-align: right;\">\n",
       "      <th></th>\n",
       "      <th>x</th>\n",
       "      <th>y</th>\n",
       "      <th>z</th>\n",
       "    </tr>\n",
       "  </thead>\n",
       "  <tbody>\n",
       "    <tr>\n",
       "      <th>0</th>\n",
       "      <td>0.0</td>\n",
       "      <td>1.000000</td>\n",
       "      <td>0.000000</td>\n",
       "    </tr>\n",
       "    <tr>\n",
       "      <th>1</th>\n",
       "      <td>0.1</td>\n",
       "      <td>1.004254</td>\n",
       "      <td>0.096083</td>\n",
       "    </tr>\n",
       "    <tr>\n",
       "      <th>2</th>\n",
       "      <td>0.2</td>\n",
       "      <td>1.019592</td>\n",
       "      <td>0.183798</td>\n",
       "    </tr>\n",
       "    <tr>\n",
       "      <th>3</th>\n",
       "      <td>0.3</td>\n",
       "      <td>1.047257</td>\n",
       "      <td>0.265059</td>\n",
       "    </tr>\n",
       "    <tr>\n",
       "      <th>4</th>\n",
       "      <td>0.4</td>\n",
       "      <td>1.088681</td>\n",
       "      <td>0.341727</td>\n",
       "    </tr>\n",
       "    <tr>\n",
       "      <th>...</th>\n",
       "      <td>...</td>\n",
       "      <td>...</td>\n",
       "      <td>...</td>\n",
       "    </tr>\n",
       "    <tr>\n",
       "      <th>96</th>\n",
       "      <td>9.6</td>\n",
       "      <td>2385.235467</td>\n",
       "      <td>1443.199698</td>\n",
       "    </tr>\n",
       "    <tr>\n",
       "      <th>97</th>\n",
       "      <td>9.7</td>\n",
       "      <td>2542.851726</td>\n",
       "      <td>1539.921923</td>\n",
       "    </tr>\n",
       "    <tr>\n",
       "      <th>98</th>\n",
       "      <td>9.8</td>\n",
       "      <td>2710.592535</td>\n",
       "      <td>1642.893824</td>\n",
       "    </tr>\n",
       "    <tr>\n",
       "      <th>99</th>\n",
       "      <td>9.9</td>\n",
       "      <td>2889.101308</td>\n",
       "      <td>1752.513054</td>\n",
       "    </tr>\n",
       "    <tr>\n",
       "      <th>100</th>\n",
       "      <td>10.0</td>\n",
       "      <td>3079.062270</td>\n",
       "      <td>1869.202486</td>\n",
       "    </tr>\n",
       "  </tbody>\n",
       "</table>\n",
       "<p>101 rows × 3 columns</p>\n",
       "</div>"
      ],
      "text/plain": [
       "        x            y            z\n",
       "0     0.0     1.000000     0.000000\n",
       "1     0.1     1.004254     0.096083\n",
       "2     0.2     1.019592     0.183798\n",
       "3     0.3     1.047257     0.265059\n",
       "4     0.4     1.088681     0.341727\n",
       "..    ...          ...          ...\n",
       "96    9.6  2385.235467  1443.199698\n",
       "97    9.7  2542.851726  1539.921923\n",
       "98    9.8  2710.592535  1642.893824\n",
       "99    9.9  2889.101308  1752.513054\n",
       "100  10.0  3079.062270  1869.202486\n",
       "\n",
       "[101 rows x 3 columns]"
      ]
     },
     "execution_count": 56,
     "metadata": {},
     "output_type": "execute_result"
    }
   ],
   "source": [
    "Runge_Kutta([\"y' = x**2 + z\",\"z' = y - z\"],[1, 0],[0, 10, 0.1])"
   ]
  },
  {
   "cell_type": "code",
   "execution_count": 74,
   "metadata": {},
   "outputs": [
    {
     "data": {
      "text/html": [
       "<div>\n",
       "<style scoped>\n",
       "    .dataframe tbody tr th:only-of-type {\n",
       "        vertical-align: middle;\n",
       "    }\n",
       "\n",
       "    .dataframe tbody tr th {\n",
       "        vertical-align: top;\n",
       "    }\n",
       "\n",
       "    .dataframe thead th {\n",
       "        text-align: right;\n",
       "    }\n",
       "</style>\n",
       "<table border=\"1\" class=\"dataframe\">\n",
       "  <thead>\n",
       "    <tr style=\"text-align: right;\">\n",
       "      <th></th>\n",
       "      <th>x</th>\n",
       "      <th>y</th>\n",
       "      <th>z</th>\n",
       "    </tr>\n",
       "  </thead>\n",
       "  <tbody>\n",
       "    <tr>\n",
       "      <th>0</th>\n",
       "      <td>0.0</td>\n",
       "      <td>1.000000</td>\n",
       "      <td>0.000000</td>\n",
       "    </tr>\n",
       "    <tr>\n",
       "      <th>1</th>\n",
       "      <td>0.1</td>\n",
       "      <td>1.005175</td>\n",
       "      <td>0.095329</td>\n",
       "    </tr>\n",
       "    <tr>\n",
       "      <th>2</th>\n",
       "      <td>0.2</td>\n",
       "      <td>1.021464</td>\n",
       "      <td>0.182608</td>\n",
       "    </tr>\n",
       "    <tr>\n",
       "      <th>3</th>\n",
       "      <td>0.3</td>\n",
       "      <td>1.050158</td>\n",
       "      <td>0.263719</td>\n",
       "    </tr>\n",
       "    <tr>\n",
       "      <th>4</th>\n",
       "      <td>0.4</td>\n",
       "      <td>1.092731</td>\n",
       "      <td>0.340502</td>\n",
       "    </tr>\n",
       "    <tr>\n",
       "      <th>...</th>\n",
       "      <td>...</td>\n",
       "      <td>...</td>\n",
       "      <td>...</td>\n",
       "    </tr>\n",
       "    <tr>\n",
       "      <th>96</th>\n",
       "      <td>9.6</td>\n",
       "      <td>2449.714309</td>\n",
       "      <td>1483.045427</td>\n",
       "    </tr>\n",
       "    <tr>\n",
       "      <th>97</th>\n",
       "      <td>9.7</td>\n",
       "      <td>2612.267548</td>\n",
       "      <td>1582.818873</td>\n",
       "    </tr>\n",
       "    <tr>\n",
       "      <th>98</th>\n",
       "      <td>9.8</td>\n",
       "      <td>2785.312617</td>\n",
       "      <td>1689.068987</td>\n",
       "    </tr>\n",
       "    <tr>\n",
       "      <th>99</th>\n",
       "      <td>9.9</td>\n",
       "      <td>2969.519682</td>\n",
       "      <td>1802.209955</td>\n",
       "    </tr>\n",
       "    <tr>\n",
       "      <th>100</th>\n",
       "      <td>10.0</td>\n",
       "      <td>3165.601630</td>\n",
       "      <td>1922.682365</td>\n",
       "    </tr>\n",
       "  </tbody>\n",
       "</table>\n",
       "<p>101 rows × 3 columns</p>\n",
       "</div>"
      ],
      "text/plain": [
       "        x            y            z\n",
       "0     0.0     1.000000     0.000000\n",
       "1     0.1     1.005175     0.095329\n",
       "2     0.2     1.021464     0.182608\n",
       "3     0.3     1.050158     0.263719\n",
       "4     0.4     1.092731     0.340502\n",
       "..    ...          ...          ...\n",
       "96    9.6  2449.714309  1483.045427\n",
       "97    9.7  2612.267548  1582.818873\n",
       "98    9.8  2785.312617  1689.068987\n",
       "99    9.9  2969.519682  1802.209955\n",
       "100  10.0  3165.601630  1922.682365\n",
       "\n",
       "[101 rows x 3 columns]"
      ]
     },
     "execution_count": 74,
     "metadata": {},
     "output_type": "execute_result"
    }
   ],
   "source": [
    " # create function\n",
    "    \n",
    "def Drugay_biblioteka(b):\n",
    "    def f(y, t):\n",
    "        y1, y2 = y\n",
    "        return [t**2 + y2, y1 - y2]\n",
    "    b = '1'+str(b)[0]+str(b)[2:]\n",
    "    b = int(b)\n",
    "    t = np.linspace( 0, 10, b) # vector of time\n",
    "    y0 = [1, 0] # start value\n",
    "    w = odeint(f, y0, t) # solve eq.\n",
    "    y1 = w[:,0]\n",
    "    y2 = w[:,1]\n",
    "    return pd.DataFrame({\"x\":t, \"y\":y1, \"z\": y2})\n",
    "Drugay_biblioteka(0.1)"
   ]
  },
  {
   "cell_type": "markdown",
   "metadata": {},
   "source": [
    "# Проверим точность этого..."
   ]
  },
  {
   "cell_type": "code",
   "execution_count": 84,
   "metadata": {},
   "outputs": [
    {
     "data": {
      "text/plain": [
       "y    1000.826253\n",
       "z     614.734429\n",
       "dtype: float64"
      ]
     },
     "execution_count": 84,
     "metadata": {},
     "output_type": "execute_result"
    }
   ],
   "source": [
    "konechnay_oshibka([\"y' = x**2 + z\",\"z' = y - z\"],Drugay_biblioteka(0.1))"
   ]
  },
  {
   "cell_type": "code",
   "execution_count": null,
   "metadata": {},
   "outputs": [],
   "source": [
    "Как мы видим, отклонения очень большие..."
   ]
  },
  {
   "cell_type": "markdown",
   "metadata": {},
   "source": [
    "Сверху пример работы функции умных людей"
   ]
  },
  {
   "cell_type": "markdown",
   "metadata": {},
   "source": [
    "Так как там нужно вводить код функцией, то автоматизировать не получиться..."
   ]
  },
  {
   "cell_type": "markdown",
   "metadata": {},
   "source": [
    "Реперь сравним время в зависимости от количества точек (и точность)"
   ]
  },
  {
   "cell_type": "code",
   "execution_count": 77,
   "metadata": {},
   "outputs": [],
   "source": [
    "from time import time_ns"
   ]
  },
  {
   "cell_type": "code",
   "execution_count": 86,
   "metadata": {},
   "outputs": [
    {
     "name": "stdout",
     "output_type": "stream",
     "text": [
      "==========Зависимость времени от количества точек=========\n"
     ]
    },
    {
     "data": {
      "image/png": "[encoded data removed]",
      "text/plain": [
       "<Figure size 432x288 with 1 Axes>"
      ]
     },
     "metadata": {
      "needs_background": "light"
     },
     "output_type": "display_data"
    }
   ],
   "source": [
    "# Испытаем на интервале 0 - 10 с шагом 0.1, 0.01, 0.001, 0.0001, 0.00001, 0.000001, 0.0000001\n",
    "a = [0.1, 0.01, 0.001, 0.0001]\n",
    "\n",
    "t_R = []\n",
    "t_D = []\n",
    "t_E = []\n",
    "\n",
    "for i in a:\n",
    "    t1 = time_ns()\n",
    "    df1 = Runge_Kutta([\"y' = x**2 + z\",\"z' = y - z\"],[1, 0],[0, 10, i])\n",
    "    t_R.append(time_ns() - t1)\n",
    "    \n",
    "    t1 = time_ns()\n",
    "    df2 = Drugay_biblioteka(i)\n",
    "    t_D.append(time_ns() - t1)\n",
    "    \n",
    "    t1 = time_ns()\n",
    "    df3 = Eiler_Koshi([\"y' = x**2 + z\",\"z' = y - z\"],[1, 0],[0, 10, i])\n",
    "    t_E.append(time_ns() - t1)\n",
    "    \n",
    "    \n",
    "\n",
    "    \n",
    "    \n",
    "print('==========Зависимость времени от количества точек=========')\n",
    "plt.plot(t_R, label = 'Runge')\n",
    "plt.plot(t_D, label = 'Drugoe')\n",
    "plt.plot(t_E, label = 'Eiler')\n",
    "plt.legend()\n",
    "plt.show()\n",
    "    \n",
    "    "
   ]
  },
  {
   "cell_type": "markdown",
   "metadata": {},
   "source": [
    "Так же будет прикреплен файл-объяснение того как я считаю ошибку"
   ]
  },
  {
   "cell_type": "code",
   "execution_count": null,
   "metadata": {},
   "outputs": [],
   "source": []
  }
 ],
 "metadata": {
  "kernelspec": {
   "display_name": "Python 3",
   "language": "python",
   "name": "python3"
  },
  "language_info": {
   "codemirror_mode": {
    "name": "ipython",
    "version": 3
   },
   "file_extension": ".py",
   "mimetype": "text/x-python",
   "name": "python",
   "nbconvert_exporter": "python",
   "pygments_lexer": "ipython3",
   "version": "3.8.5"
  }
 },
 "nbformat": 4,
 "nbformat_minor": 4
}
